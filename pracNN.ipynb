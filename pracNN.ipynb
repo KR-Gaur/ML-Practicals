{
 "cells": [
  {
   "cell_type": "code",
   "execution_count": 76,
   "metadata": {
    "collapsed": true
   },
   "outputs": [],
   "source": [
    "import numpy as np\n",
    "\n",
    "X = np.array([[1,0,1,0],[1,0,1,1],[0,1,0,1]])\n",
    "Y = np.array([[1],[0],[0]])\n",
    "\n",
    "def sigmoid(x) : \n",
    "    return 1/(1+np.exp(-x))\n",
    "\n",
    "def der_sigmoid(x) : \n",
    "    return x*(1-x)\n",
    "lr = 0.4\n",
    "epoch = 20000"
   ]
  },
  {
   "cell_type": "code",
   "execution_count": 77,
   "metadata": {
    "collapsed": false
   },
   "outputs": [],
   "source": [
    "inputNeurons = X.shape[1]\n",
    "hiddenLayerNeurons = 3\n",
    "outputLayerNeurons = 1"
   ]
  },
  {
   "cell_type": "code",
   "execution_count": 78,
   "metadata": {
    "collapsed": false
   },
   "outputs": [],
   "source": [
    "wh = np.random.uniform(size=(inputNeurons,hiddenLayerNeurons))\n",
    "#wh"
   ]
  },
  {
   "cell_type": "code",
   "execution_count": 79,
   "metadata": {
    "collapsed": false
   },
   "outputs": [],
   "source": [
    "bh = np.random.uniform(size=(1,hiddenLayerNeurons))\n",
    "#bh"
   ]
  },
  {
   "cell_type": "code",
   "execution_count": 80,
   "metadata": {
    "collapsed": false
   },
   "outputs": [],
   "source": [
    "wout = np.random.uniform(size=(hiddenLayerNeurons,outputLayerNeurons))\n",
    "#wout"
   ]
  },
  {
   "cell_type": "code",
   "execution_count": 81,
   "metadata": {
    "collapsed": false
   },
   "outputs": [],
   "source": [
    "bout =np.random.uniform(size=(1,outputLayerNeurons))\n",
    "#bout"
   ]
  },
  {
   "cell_type": "code",
   "execution_count": 82,
   "metadata": {
    "collapsed": false
   },
   "outputs": [
    {
     "data": {
      "text/plain": [
       "array([[ 1.87309268,  1.77018498,  1.04680951],\n",
       "       [ 2.44540115,  2.39550618,  1.64690516],\n",
       "       [ 0.65084813,  0.88359367,  0.78912219]])"
      ]
     },
     "execution_count": 82,
     "metadata": {},
     "output_type": "execute_result"
    }
   ],
   "source": [
    "hiddenLayerInput = np.dot(X,wh)\n",
    "hiddenLayerInput"
   ]
  },
  {
   "cell_type": "code",
   "execution_count": null,
   "metadata": {
    "collapsed": false
   },
   "outputs": [],
   "source": []
  },
  {
   "cell_type": "code",
   "execution_count": null,
   "metadata": {
    "collapsed": false
   },
   "outputs": [],
   "source": []
  },
  {
   "cell_type": "code",
   "execution_count": 83,
   "metadata": {
    "collapsed": false
   },
   "outputs": [
    {
     "name": "stdout",
     "output_type": "stream",
     "text": [
      "[[ 0.99162404]\n",
      " [ 0.007626  ]\n",
      " [ 0.00181632]]\n"
     ]
    }
   ],
   "source": [
    "for i in range(epoch):\n",
    "    hiddenLayerInput = np.dot(X,wh)\n",
    "    hiddenLayerInput +=bh\n",
    "    hiddenActivation = sigmoid(hiddenLayerInput)\n",
    "    outputLayerInput = np.dot(hiddenActivation,wout)\n",
    "    outputLayerInput +=bout\n",
    "    output = sigmoid(outputLayerInput)\n",
    "    E = Y - output\n",
    "    slopOfOutputLayer = der_sigmoid(output)\n",
    "    slopOfHiddenLayer = der_sigmoid(hiddenActivation)\n",
    "    d_output = E*slopOfOutputLayer\n",
    "    Error_at_hidden = d_output.dot(wout.T)\n",
    "    d_hidden = Error_at_hidden*slopOfHiddenLayer\n",
    "    wout+= hiddenActivation.T.dot(d_output)*lr\n",
    "    bout+=np.sum(d_output,axis=0,keepdims=True)*lr\n",
    "    wh+=X.T.dot(d_hidden)*lr\n",
    "    bh+=np.sum(d_hidden,axis=0,keepdims=True)*lr\n",
    "    \n",
    "print(output)"
   ]
  },
  {
   "cell_type": "code",
   "execution_count": null,
   "metadata": {
    "collapsed": true
   },
   "outputs": [],
   "source": []
  },
  {
   "cell_type": "code",
   "execution_count": null,
   "metadata": {
    "collapsed": true
   },
   "outputs": [],
   "source": []
  }
 ],
 "metadata": {
  "anaconda-cloud": {},
  "kernelspec": {
   "display_name": "Python [conda root]",
   "language": "python",
   "name": "conda-root-py"
  },
  "language_info": {
   "codemirror_mode": {
    "name": "ipython",
    "version": 3
   },
   "file_extension": ".py",
   "mimetype": "text/x-python",
   "name": "python",
   "nbconvert_exporter": "python",
   "pygments_lexer": "ipython3",
   "version": "3.5.2"
  }
 },
 "nbformat": 4,
 "nbformat_minor": 1
}
