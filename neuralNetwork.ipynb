{
 "cells": [
  {
   "cell_type": "code",
   "execution_count": 53,
   "metadata": {
    "collapsed": false
   },
   "outputs": [],
   "source": [
    "import numpy as np\n",
    "\n",
    "X=np.array([[1,0,1,0],[1,0,1,1],[0,1,0,1]])\n",
    "y=np.array([[1],[1],[0]])\n",
    "\n",
    "def sigmoid(x):\n",
    "    return 1/(1+np.exp(-x))\n",
    "\n",
    "def der_sigmoid(x):\n",
    "    return x*(1-x)\n",
    "\n",
    "epoch= 10000\n",
    "lr =0.5"
   ]
  },
  {
   "cell_type": "code",
   "execution_count": 54,
   "metadata": {
    "collapsed": false
   },
   "outputs": [],
   "source": [
    "inputLayerNeurons = X.shape[1]     #no of features eg: 4 in [1,0,1,0]"
   ]
  },
  {
   "cell_type": "code",
   "execution_count": 55,
   "metadata": {
    "collapsed": true
   },
   "outputs": [],
   "source": [
    "hiddenLayerNeurons = 3\n",
    "outputLayerNeurons = 1"
   ]
  },
  {
   "cell_type": "code",
   "execution_count": 56,
   "metadata": {
    "collapsed": false
   },
   "outputs": [
    {
     "data": {
      "text/plain": [
       "array([[ 0.83672512,  0.03495992,  0.70661848],\n",
       "       [ 0.63271423,  0.09280188,  0.46784521],\n",
       "       [ 0.36840291,  0.69561679,  0.96487328],\n",
       "       [ 0.61701663,  0.72248416,  0.94388893]])"
      ]
     },
     "execution_count": 56,
     "metadata": {},
     "output_type": "execute_result"
    }
   ],
   "source": [
    "wh=np.random.uniform(size=(inputLayerNeurons,hiddenLayerNeurons))   #default range is (0,1)\n",
    "wh"
   ]
  },
  {
   "cell_type": "code",
   "execution_count": 57,
   "metadata": {
    "collapsed": false
   },
   "outputs": [
    {
     "data": {
      "text/plain": [
       "array([[ 0.21814325,  0.75993842,  0.9197238 ]])"
      ]
     },
     "execution_count": 57,
     "metadata": {},
     "output_type": "execute_result"
    }
   ],
   "source": [
    "bh=np.random.uniform(size=(1,hiddenLayerNeurons))\n",
    "bh"
   ]
  },
  {
   "cell_type": "code",
   "execution_count": 58,
   "metadata": {
    "collapsed": false
   },
   "outputs": [
    {
     "data": {
      "text/plain": [
       "array([[ 0.22930414],\n",
       "       [ 0.37638388],\n",
       "       [ 0.8660884 ]])"
      ]
     },
     "execution_count": 58,
     "metadata": {},
     "output_type": "execute_result"
    }
   ],
   "source": [
    "wout=np.random.uniform(size=(hiddenLayerNeurons,outputLayerNeurons))   #default range is (0,1) size(r,c)\n",
    "wout"
   ]
  },
  {
   "cell_type": "code",
   "execution_count": 59,
   "metadata": {
    "collapsed": false
   },
   "outputs": [
    {
     "data": {
      "text/plain": [
       "array([[ 0.67947708]])"
      ]
     },
     "execution_count": 59,
     "metadata": {},
     "output_type": "execute_result"
    }
   ],
   "source": [
    "bout=np.random.uniform(size=(1,outputLayerNeurons))\n",
    "bout"
   ]
  },
  {
   "cell_type": "code",
   "execution_count": 60,
   "metadata": {
    "collapsed": false
   },
   "outputs": [],
   "source": [
    "#hiddenLayerInput = np.dot(X,wh)\n",
    "#hiddenLayerInput"
   ]
  },
  {
   "cell_type": "code",
   "execution_count": 61,
   "metadata": {
    "collapsed": false
   },
   "outputs": [],
   "source": [
    "#hiddenLayerInput +=bh \n",
    "#hiddenLayerInput"
   ]
  },
  {
   "cell_type": "code",
   "execution_count": 68,
   "metadata": {
    "collapsed": false
   },
   "outputs": [],
   "source": [
    "for i in range(epoch):\n",
    "    hiddenLayerInput = np.dot(X,wh)\n",
    "    hiddenLayerInput += bh    \n",
    "    hiddenLayerActivation = sigmoid(hiddenLayerInput)\n",
    "    outputLayerInput = np.dot(hiddenLayerActivation,wout)\n",
    "    outputLayerInput +=bout\n",
    "    output = sigmoid(outputLayerInput)\n",
    "    E = y - output\n",
    "    slopeOfOutputLayer = der_sigmoid(output)\n",
    "    d_output = E * slopeOfOutputLayer\n",
    "    slopeOfHiddenLayer = der_sigmoid(hiddenLayerActivation)\n",
    "    errorAtHiddenlayer = d_output.dot(wout.T)\n",
    "    d_hidden= errorAtHiddenlayer *slopeOfHiddenLayer\n",
    "    wout +=hiddenLayerActivation.T.dot(d_output)*lr\n",
    "    bout +=np.sum(d_output,axis=0,keepdims=True)*lr\n",
    "    wh   +=X.T.dot(d_hidden)*lr\n",
    "    bh   +=np.sum(d_hidden,axis=0,keepdims=True)*lr"
   ]
  },
  {
   "cell_type": "code",
   "execution_count": 69,
   "metadata": {
    "collapsed": false
   },
   "outputs": [
    {
     "name": "stdout",
     "output_type": "stream",
     "text": [
      "[[ 0.99701172]\n",
      " [ 0.9959937 ]\n",
      " [ 0.00525944]]\n"
     ]
    }
   ],
   "source": [
    "print(output)"
   ]
  },
  {
   "cell_type": "code",
   "execution_count": 41,
   "metadata": {
    "collapsed": false
   },
   "outputs": [
    {
     "data": {
      "text/plain": [
       "array([[ 0.00890295,  0.00559898,  0.00121664],\n",
       "       [ 0.00714748,  0.00449498,  0.00097674],\n",
       "       [-0.07333309, -0.0461185 , -0.01002135]])"
      ]
     },
     "execution_count": 41,
     "metadata": {},
     "output_type": "execute_result"
    }
   ],
   "source": [
    "#slopeOfOutputLayer \n",
    "errorAtHiddenlayer"
   ]
  },
  {
   "cell_type": "code",
   "execution_count": null,
   "metadata": {
    "collapsed": true
   },
   "outputs": [],
   "source": []
  },
  {
   "cell_type": "code",
   "execution_count": 38,
   "metadata": {
    "collapsed": false
   },
   "outputs": [
    {
     "data": {
      "text/plain": [
       "(3, 1)"
      ]
     },
     "execution_count": 38,
     "metadata": {},
     "output_type": "execute_result"
    }
   ],
   "source": [
    "wout.shape"
   ]
  },
  {
   "cell_type": "code",
   "execution_count": 39,
   "metadata": {
    "collapsed": false
   },
   "outputs": [
    {
     "data": {
      "text/plain": [
       "(1, 3)"
      ]
     },
     "execution_count": 39,
     "metadata": {},
     "output_type": "execute_result"
    }
   ],
   "source": [
    "wout.T.shape"
   ]
  },
  {
   "cell_type": "code",
   "execution_count": null,
   "metadata": {
    "collapsed": true
   },
   "outputs": [],
   "source": []
  }
 ],
 "metadata": {
  "anaconda-cloud": {},
  "kernelspec": {
   "display_name": "Python [conda root]",
   "language": "python",
   "name": "conda-root-py"
  },
  "language_info": {
   "codemirror_mode": {
    "name": "ipython",
    "version": 3
   },
   "file_extension": ".py",
   "mimetype": "text/x-python",
   "name": "python",
   "nbconvert_exporter": "python",
   "pygments_lexer": "ipython3",
   "version": "3.5.2"
  }
 },
 "nbformat": 4,
 "nbformat_minor": 1
}
